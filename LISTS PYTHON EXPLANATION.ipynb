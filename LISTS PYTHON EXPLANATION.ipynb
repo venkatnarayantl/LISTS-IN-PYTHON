{
 "cells": [
  {
   "cell_type": "markdown",
   "id": "e539247c",
   "metadata": {},
   "source": [
    "# LISTS"
   ]
  },
  {
   "cell_type": "code",
   "execution_count": 8,
   "id": "a98cbb04",
   "metadata": {},
   "outputs": [
    {
     "name": "stdout",
     "output_type": "stream",
     "text": [
      "ORIGINAL LIST :  [11, 22, 33, 44, 55]\n",
      "TYPE 1 OF THE LIST :  <class 'list'>\n",
      "ID 1 OF THE LIST :  2622331796608\n",
      "LIST VALUE CHANGED :  [10, 22, 33, 44, 55]\n",
      "TYPE 2 OF THE LIST :  <class 'list'>\n",
      "ID 2 OF THE LIST :  2622331796608\n"
     ]
    }
   ],
   "source": [
    "# how are lists mutable?\n",
    "\n",
    "L = [11,22,33,44,55] #make a list\n",
    "print(\"ORIGINAL LIST : \",L)\n",
    "t = type(L)                   #type function prints which type is the list \n",
    "i = id(L)                     #id functions tells us the id number \n",
    "print(\"TYPE 1 OF THE LIST : \",t)\n",
    "print(\"ID 1 OF THE LIST : \",i)\n",
    "L[0] = 10                     #0th index value is 11 so 11 will be changed to 10\n",
    "print(\"LIST VALUE CHANGED : \",L)\n",
    "print(\"TYPE 2 OF THE LIST : \",t)\n",
    "print(\"ID 2 OF THE LIST : \", i) #id value remains same from this we get to know that lists are mutable"
   ]
  },
  {
   "cell_type": "code",
   "execution_count": 12,
   "id": "7d078354",
   "metadata": {},
   "outputs": [
    {
     "name": "stdout",
     "output_type": "stream",
     "text": [
      "TYPE :  <class 'int'>\n",
      "ID :  140712382769552\n",
      "AFTER ADDING 50 WITH 20 : 70\n",
      "ID :  140712382771152\n"
     ]
    }
   ],
   "source": [
    "#INTEGERS ARE IMMUTABLE TYPE\n",
    "a = 20\n",
    "t = type(a)\n",
    "i = id(a)\n",
    "print(\"TYPE : \",t)\n",
    "print(\"ID : \",i)\n",
    "a = a+50\n",
    "print(\"AFTER ADDING 50 WITH 20 :\",a)\n",
    "i2 = id(a)\n",
    "print(\"ID : \",i2)       #by seeing the output the id differs so we confirm that integers are immutable type"
   ]
  },
  {
   "cell_type": "code",
   "execution_count": 32,
   "id": "2af41fbd",
   "metadata": {},
   "outputs": [
    {
     "name": "stdout",
     "output_type": "stream",
     "text": [
      "[11, 22, 33, 44, 55]\n",
      "\n",
      "EXPONENT:  121     MULTIPLICATION:  22     ADDITION:  13     SUBTRACTION:  9     DIVISION:  5.5     FLOOR DIVISION:  5\n",
      "EXPONENT:  484     MULTIPLICATION:  44     ADDITION:  24     SUBTRACTION:  20     DIVISION:  11.0     FLOOR DIVISION:  11\n",
      "EXPONENT:  1089     MULTIPLICATION:  66     ADDITION:  35     SUBTRACTION:  31     DIVISION:  16.5     FLOOR DIVISION:  16\n",
      "EXPONENT:  1936     MULTIPLICATION:  88     ADDITION:  46     SUBTRACTION:  42     DIVISION:  22.0     FLOOR DIVISION:  22\n",
      "EXPONENT:  3025     MULTIPLICATION:  110     ADDITION:  57     SUBTRACTION:  53     DIVISION:  27.5     FLOOR DIVISION:  27"
     ]
    }
   ],
   "source": [
    "#traversing a list\n",
    "#this only accesses and processes the elements inside the list\n",
    "l = [11,22,33,44,55]\n",
    "print(l)\n",
    "for i in l:\n",
    "    print(\"\\nEXPONENT: \",i**2, end=\"\") \n",
    "    print(\"     MULTIPLICATION: \",i*2, end=\"\")\n",
    "    print(\"     ADDITION: \",i+2, end=\"\")\n",
    "    print(\"     SUBTRACTION: \",i-2, end=\"\")\n",
    "    print(\"     DIVISION: \",i/2, end=\"\")\n",
    "    print(\"     FLOOR DIVISION: \",i//2, end=\"\")"
   ]
  },
  {
   "cell_type": "code",
   "execution_count": 51,
   "id": "86769bbf",
   "metadata": {},
   "outputs": [
    {
     "name": "stdout",
     "output_type": "stream",
     "text": [
      "AT INDICES 0 : P\n",
      "AT INDICES 1 : O\n",
      "AT INDICES 2 : L\n",
      "AT INDICES 3 : I\n",
      "AT INDICES 4 : T\n",
      "AT INDICES 5 : E\n"
     ]
    }
   ],
   "source": [
    "#printing the list of elements along its index\n",
    "l = ['P','O','L','I','T','E']\n",
    "length = len(l)\n",
    "for i in range(length):\n",
    "    print(\"AT INDICES\",i,\":\",l[i])    "
   ]
  },
  {
   "cell_type": "code",
   "execution_count": 54,
   "id": "6416c489",
   "metadata": {},
   "outputs": [
    {
     "name": "stdout",
     "output_type": "stream",
     "text": [
      "True\n",
      "False\n",
      "False\n",
      "True\n"
     ]
    }
   ],
   "source": [
    "#comparing lists\n",
    "l1 = [1,2,3]\n",
    "l2 = [1,2,3]\n",
    "l3 = [4,5,6]\n",
    "print(l1==l2)\n",
    "print(l1==l3)\n",
    "print(l1>l2)\n",
    "print(l3>l2)"
   ]
  },
  {
   "cell_type": "code",
   "execution_count": 55,
   "id": "26b09b91",
   "metadata": {},
   "outputs": [
    {
     "name": "stdout",
     "output_type": "stream",
     "text": [
      "[11, 22, 33, 44, 55, 66, 77, 88, 99]\n"
     ]
    }
   ],
   "source": [
    "#joining the list or concatenation\n",
    "l1 = [11,22,33,44,55]\n",
    "l2 = [66,77,88,99]\n",
    "l3 = l1+l2\n",
    "print(l3)"
   ]
  },
  {
   "cell_type": "code",
   "execution_count": 59,
   "id": "d986180e",
   "metadata": {},
   "outputs": [
    {
     "name": "stdout",
     "output_type": "stream",
     "text": [
      "[11, 22, 33, 11, 22, 33, 11, 22, 33]\n"
     ]
    }
   ],
   "source": [
    "#replication or repeating\n",
    "l1 = [11,22,33]\n",
    "l = l1*3\n",
    "print(l) #but we cannot replicate with other list"
   ]
  },
  {
   "cell_type": "code",
   "execution_count": 61,
   "id": "09797fbe",
   "metadata": {},
   "outputs": [
    {
     "data": {
      "text/plain": [
       "3"
      ]
     },
     "execution_count": 61,
     "metadata": {},
     "output_type": "execute_result"
    }
   ],
   "source": [
    "#LIST METHODS\n",
    "#1)len() method\n",
    "l = [11,22,33]\n",
    "len(l)"
   ]
  },
  {
   "cell_type": "code",
   "execution_count": 62,
   "id": "22271066",
   "metadata": {},
   "outputs": [
    {
     "data": {
      "text/plain": [
       "['H', 'E', 'L', 'L', 'O']"
      ]
     },
     "execution_count": 62,
     "metadata": {},
     "output_type": "execute_result"
    }
   ],
   "source": [
    "#2) list()\n",
    "l = (\"HELLO\")\n",
    "list(l)"
   ]
  },
  {
   "cell_type": "code",
   "execution_count": 66,
   "id": "82d305bc",
   "metadata": {},
   "outputs": [
    {
     "name": "stdout",
     "output_type": "stream",
     "text": [
      "1\n"
     ]
    }
   ],
   "source": [
    "#3) index()\n",
    "l = [11,22,33,44,55,22]   #only the 1st matched element item from the list and its index value\n",
    "i1 = l.index(22)\n",
    "print(i1)"
   ]
  },
  {
   "cell_type": "code",
   "execution_count": 2,
   "id": "1bd578ae",
   "metadata": {},
   "outputs": [
    {
     "name": "stdout",
     "output_type": "stream",
     "text": [
      "[11, 22, 33, 44, 55]\n"
     ]
    }
   ],
   "source": [
    "#4)append()\n",
    "# append() adds only 1 element at the end of the list\n",
    "l = [11,22,33,44]\n",
    "l.append(55)\n",
    "print(l)"
   ]
  },
  {
   "cell_type": "code",
   "execution_count": 3,
   "id": "c4b3759c",
   "metadata": {},
   "outputs": [
    {
     "name": "stdout",
     "output_type": "stream",
     "text": [
      "[11, 22, 33, 44, 55, 66, 77]\n"
     ]
    }
   ],
   "source": [
    "#5) extend()\n",
    "#this function can add multiple elements to the end of the list\n",
    "l = [11,22,33,44]\n",
    "l.extend([55,66,77])\n",
    "print(l)"
   ]
  },
  {
   "cell_type": "code",
   "execution_count": 1,
   "id": "9e95228d",
   "metadata": {},
   "outputs": [
    {
     "name": "stdout",
     "output_type": "stream",
     "text": [
      "LIST :  ['a', 'e', 'i', 'o', 'u']\n"
     ]
    }
   ],
   "source": [
    "#6) insert()\n",
    "# this function inserts elements to the specified index\n",
    "v = ['a','e','i','u']  #creating a list of vowels\n",
    "v.insert(3,'o')\n",
    "print('LIST : ',v)"
   ]
  },
  {
   "cell_type": "code",
   "execution_count": 5,
   "id": "472ee93e",
   "metadata": {},
   "outputs": [
    {
     "name": "stdout",
     "output_type": "stream",
     "text": [
      "REMOVED ELEMENT :  4\n",
      "UPDATED LIST :  [2, 3, 7]\n",
      "LIST OF INSERTED ELEMENT :  [2, 3, 5, 7]\n"
     ]
    }
   ],
   "source": [
    "#7) pop()\n",
    "# this method removes the items at the given index from the list and return the removed item\n",
    "p = [2,3,4,7]\n",
    "r = p.pop(2)\n",
    "print(\"REMOVED ELEMENT : \",r)\n",
    "print(\"UPDATED LIST : \",p)         # this is the function of pop()\n",
    "#now adding the correct element after the element deletion\n",
    "p.insert(2,5)\n",
    "print(\"LIST OF INSERTED ELEMENT : \",p)   "
   ]
  },
  {
   "cell_type": "code",
   "execution_count": 2,
   "id": "b1b53ff2",
   "metadata": {},
   "outputs": [
    {
     "name": "stdout",
     "output_type": "stream",
     "text": [
      "[7, 5, 3, 2]\n"
     ]
    }
   ],
   "source": [
    "#8) reverse()\n",
    "# this function reverses the element inside the list\n",
    "#taking the same example of prime nos. \n",
    "p = [2,3,5,7]\n",
    "p.reverse()\n",
    "print(p)"
   ]
  },
  {
   "cell_type": "code",
   "execution_count": 3,
   "id": "0ad0b581",
   "metadata": {},
   "outputs": [
    {
     "name": "stdout",
     "output_type": "stream",
     "text": [
      "AFTER CLEARING THE LIST :  []\n"
     ]
    }
   ],
   "source": [
    "#9)clear()\n",
    "# this function removes all the element from the list\n",
    "# taking the same example of prime nos.\n",
    "p = [2,3,5,7,11]\n",
    "p.clear()\n",
    "print(\"AFTER CLEARING THE LIST : \",p)"
   ]
  },
  {
   "cell_type": "code",
   "execution_count": 10,
   "id": "5f0e8fe7",
   "metadata": {},
   "outputs": [
    {
     "name": "stdout",
     "output_type": "stream",
     "text": [
      "{'NAME': 'VENKAT', 'AGE': 16}\n"
     ]
    }
   ],
   "source": [
    "#10)del()\n",
    "# this function deletes the particular element from the list\n",
    "p = {'NAME' : 'VENKAT','AGE' : 16,'PROFESSION' : 'STUDENT' }\n",
    "del(p['PROFESSION'])\n",
    "print(p)"
   ]
  },
  {
   "cell_type": "code",
   "execution_count": 11,
   "id": "a40d3126",
   "metadata": {},
   "outputs": [
    {
     "name": "stdout",
     "output_type": "stream",
     "text": [
      "COUNT OF 2 :  2\n",
      "COUNT OF 7 :  3\n"
     ]
    }
   ],
   "source": [
    "#11)count()\n",
    "# this function returns the no. of times the specified appears in the list\n",
    "n = [2,3,5,7,11,2,7,7]\n",
    "count = n.count(2)\n",
    "c2 = n.count(7)\n",
    "print(\"COUNT OF 2 : \",count)\n",
    "print(\"COUNT OF 7 : \",c2)"
   ]
  },
  {
   "cell_type": "code",
   "execution_count": 21,
   "id": "870d841d",
   "metadata": {},
   "outputs": [
    {
     "name": "stdout",
     "output_type": "stream",
     "text": [
      "[10, 12, 13, 21, 24, 25, 45]\n"
     ]
    }
   ],
   "source": [
    "#12)sort()\n",
    "#this function sorts the elements in the list in increasing order \n",
    "l = [25,21,24,45,12,13,10]\n",
    "l.sort()\n",
    "print(l)"
   ]
  },
  {
   "cell_type": "code",
   "execution_count": 22,
   "id": "edee33c9",
   "metadata": {},
   "outputs": [
    {
     "name": "stdout",
     "output_type": "stream",
     "text": [
      "[12, 20, 23, 56]\n",
      "[56, 23, 20, 12]\n"
     ]
    }
   ],
   "source": [
    "#13)sorted()\n",
    "#this function returns the new sorted list but does not sort the original list\n",
    "l1 = [23,56,20,12]\n",
    "l1.sort()\n",
    "print(l1)\n",
    "l2 = sorted(l1,reverse = True)\n",
    "print(l2)"
   ]
  },
  {
   "cell_type": "code",
   "execution_count": 23,
   "id": "e0407879",
   "metadata": {},
   "outputs": [
    {
     "data": {
      "text/plain": [
       "255"
      ]
     },
     "execution_count": 23,
     "metadata": {},
     "output_type": "execute_result"
    }
   ],
   "source": [
    "#14)max()\n",
    "#this function returns the maximum element inside the list\n",
    "n = [12,255,23,45,65]\n",
    "max(n)"
   ]
  },
  {
   "cell_type": "code",
   "execution_count": 24,
   "id": "82c5fc6c",
   "metadata": {},
   "outputs": [
    {
     "data": {
      "text/plain": [
       "12"
      ]
     },
     "execution_count": 24,
     "metadata": {},
     "output_type": "execute_result"
    }
   ],
   "source": [
    "#14)min()\n",
    "#this function returns the minimum element inside the list\n",
    "n = [12,255,23,45,65]\n",
    "min(n)"
   ]
  },
  {
   "cell_type": "code",
   "execution_count": 25,
   "id": "545f9447",
   "metadata": {},
   "outputs": [
    {
     "data": {
      "text/plain": [
       "110"
      ]
     },
     "execution_count": 25,
     "metadata": {},
     "output_type": "execute_result"
    }
   ],
   "source": [
    "#15)sum()\n",
    "#this function returns the sum of elements in the list\n",
    "l = [11,22,33,44]\n",
    "sum(l)"
   ]
  },
  {
   "cell_type": "code",
   "execution_count": null,
   "id": "59342cd6",
   "metadata": {},
   "outputs": [],
   "source": [
    "# next topic is tuple which will be uploaded after this"
   ]
  }
 ],
 "metadata": {
  "kernelspec": {
   "display_name": "Python 3",
   "language": "python",
   "name": "python3"
  },
  "language_info": {
   "codemirror_mode": {
    "name": "ipython",
    "version": 3
   },
   "file_extension": ".py",
   "mimetype": "text/x-python",
   "name": "python",
   "nbconvert_exporter": "python",
   "pygments_lexer": "ipython3",
   "version": "3.8.8"
  }
 },
 "nbformat": 4,
 "nbformat_minor": 5
}
